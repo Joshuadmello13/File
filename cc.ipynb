{
  "nbformat": 4,
  "nbformat_minor": 0,
  "metadata": {
    "colab": {
      "provenance": [],
      "authorship_tag": "ABX9TyN3xANZ0dOKOFnna1wMZr7G",
      "include_colab_link": true
    },
    "kernelspec": {
      "name": "python3",
      "display_name": "Python 3"
    },
    "language_info": {
      "name": "python"
    }
  },
  "cells": [
    {
      "cell_type": "markdown",
      "metadata": {
        "id": "view-in-github",
        "colab_type": "text"
      },
      "source": [
        "<a href=\"https://colab.research.google.com/github/Joshuadmello13/File/blob/main/cc.ipynb\" target=\"_parent\"><img src=\"https://colab.research.google.com/assets/colab-badge.svg\" alt=\"Open In Colab\"/></a>"
      ]
    },
    {
      "cell_type": "markdown",
      "source": [],
      "metadata": {
        "id": "etinsUca3v3g"
      }
    },
    {
      "cell_type": "code",
      "source": [
        "\n",
        "# Python 3.x code to demonstrate star pattern\n",
        "\n",
        "# Function to demonstrate printing pattern\n",
        "\n",
        "def pypart(n):\n",
        "\n",
        "\n",
        "\n",
        "    # outer loop to handle number of rows\n",
        "\n",
        "    # n in this case\n",
        "\n",
        "    for i in range(0, n):\n",
        "\n",
        "\n",
        "\n",
        "        # inner loop to handle number of columns\n",
        "\n",
        "        # values changing acc. to outer loop\n",
        "\n",
        "        for j in range(0, i+1):\n",
        "\n",
        "\n",
        "\n",
        "            # printing stars\n",
        "\n",
        "            print(\"* \",end=\"\")\n",
        "\n",
        "\n",
        "\n",
        "        # ending line after each row\n",
        "\n",
        "        print(\"\\r\")\n",
        "\n",
        "# Driver Code\n",
        "\n",
        "n = 5\n",
        "pypart(n)"
      ],
      "metadata": {
        "colab": {
          "base_uri": "https://localhost:8080/"
        },
        "id": "z9Wun_p34sum",
        "outputId": "1ed8b3e2-04b4-4f63-ad71-ed106b45b69a"
      },
      "execution_count": null,
      "outputs": [
        {
          "output_type": "stream",
          "name": "stdout",
          "text": [
            "* \r\n",
            "* * \r\n",
            "* * * \r\n",
            "* * * * \r\n",
            "* * * * * \r\n"
          ]
        }
      ]
    },
    {
      "cell_type": "code",
      "source": [
        "\n",
        "# Python 3.x code to demonstrate star pattern\n",
        "\n",
        "# Function to demonstrate printing pattern\n",
        "\n",
        "def pypart(n):\n",
        "\n",
        "    myList = []\n",
        "\n",
        "    for i in range(1,n+1):\n",
        "\n",
        "        myList.append(\"*\"*i)\n",
        "\n",
        "    print(\"\\n\".join(myList))\n",
        "\n",
        "# Driver Code\n",
        "\n",
        "n = 5\n",
        "pypart(n)"
      ],
      "metadata": {
        "colab": {
          "base_uri": "https://localhost:8080/"
        },
        "id": "B4lqbmWN7cyY",
        "outputId": "7168b326-37e2-4445-eb42-80ffea0907b4"
      },
      "execution_count": null,
      "outputs": [
        {
          "output_type": "stream",
          "name": "stdout",
          "text": [
            "*\n",
            "**\n",
            "***\n",
            "****\n",
            "*****\n"
          ]
        }
      ]
    },
    {
      "cell_type": "code",
      "source": [
        "\n",
        "#python3 code to print pyramid pattern using recursion\n",
        "\n",
        "def pypart(n):\n",
        "\n",
        "    if n==0:\n",
        "\n",
        "        return\n",
        "\n",
        "    else:\n",
        "\n",
        "        pypart(n-1)\n",
        "\n",
        "        print(\"* \"*n)\n",
        "\n",
        "\n",
        "# Driver Code\n",
        "\n",
        "n = 5\n",
        "pypart(n)\n",
        "#this code is contributed by Shivesh Kumar Dwivedi"
      ],
      "metadata": {
        "colab": {
          "base_uri": "https://localhost:8080/"
        },
        "id": "sHqvezAC7ncL",
        "outputId": "53fabced-cf6c-493b-a6b3-cb595a02fba5"
      },
      "execution_count": null,
      "outputs": [
        {
          "output_type": "stream",
          "name": "stdout",
          "text": [
            "* \n",
            "* * \n",
            "* * * \n",
            "* * * * \n",
            "* * * * * \n"
          ]
        }
      ]
    },
    {
      "cell_type": "code",
      "source": [
        "\n",
        "# python3 code to print pyramid pattern using while loop\n",
        "\n",
        "# input\n",
        "\n",
        "n=5\n",
        "\n",
        "\n",
        "i=1;j=0\n",
        "# while loop check the condition until the\n",
        "# condition become false. if it is true then\n",
        "# enter in to loop and print the pattern\n",
        "\n",
        "while(i<=n):\n",
        "\n",
        "    while(j<=i-1):\n",
        "\n",
        "        print(\"* \",end=\"\")\n",
        "\n",
        "        j+=1\n",
        "\n",
        "     # printing next line for each row\n",
        "\n",
        "    print(\"\\r\")\n",
        "\n",
        "    j=0;i+=1\n",
        "\n",
        "\n",
        "\n",
        "\n",
        "\n",
        "\n",
        " # this code is contributed by gangarajula laxmi"
      ],
      "metadata": {
        "colab": {
          "base_uri": "https://localhost:8080/"
        },
        "id": "0sTeWTyz7y1o",
        "outputId": "bf3ed588-e7d5-4b5b-d31c-83176d1901f5"
      },
      "execution_count": null,
      "outputs": [
        {
          "output_type": "stream",
          "name": "stdout",
          "text": [
            "* \r\n",
            "* * \r\n",
            "* * * \r\n",
            "* * * * \r\n",
            "* * * * * \r\n"
          ]
        }
      ]
    },
    {
      "cell_type": "code",
      "source": [
        "\n",
        "n = 5\n",
        "\n",
        "for i in range(0, n):\n",
        "\n",
        "    for j in range(0, i+1):\n",
        "\n",
        "        print(\"*\", end=\" \")\n",
        "\n",
        "    print()"
      ],
      "metadata": {
        "colab": {
          "base_uri": "https://localhost:8080/"
        },
        "id": "UclWiVLP8HrV",
        "outputId": "87202a8c-bc83-4e9e-e864-05badc384002"
      },
      "execution_count": null,
      "outputs": [
        {
          "output_type": "stream",
          "name": "stdout",
          "text": [
            "* \n",
            "* * \n",
            "* * * \n",
            "* * * * \n",
            "* * * * * \n"
          ]
        }
      ]
    },
    {
      "cell_type": "code",
      "source": [
        "\n",
        "# Python 3.x code to demonstrate star pattern\n",
        "\n",
        "# Function to demonstrate printing pattern\n",
        "\n",
        "def pypart2(n):\n",
        "\n",
        "\n",
        "\n",
        "    # number of spaces\n",
        "\n",
        "    k = 2*n - 2\n",
        "\n",
        "\n",
        "    # outer loop to handle number of rows\n",
        "\n",
        "    for i in range(0, n):\n",
        "\n",
        "\n",
        "\n",
        "        # inner loop to handle number spaces\n",
        "\n",
        "        # values changing acc. to requirement\n",
        "\n",
        "        for j in range(0, k):\n",
        "\n",
        "            print(end=\" \")\n",
        "\n",
        "\n",
        "\n",
        "        # decrementing k after each loop\n",
        "\n",
        "        k = k - 2\n",
        "\n",
        "\n",
        "\n",
        "        # inner loop to handle number of columns\n",
        "\n",
        "        # values changing acc. to outer loop\n",
        "\n",
        "        for j in range(0, i+1):\n",
        "\n",
        "\n",
        "\n",
        "            # printing stars\n",
        "\n",
        "            print(\"* \", end=\"\")\n",
        "\n",
        "\n",
        "\n",
        "        # ending line after each row\n",
        "\n",
        "        print(\"\\r\")\n",
        "\n",
        "# Driver Code\n",
        "\n",
        "n = 5\n",
        "pypart2(n)"
      ],
      "metadata": {
        "colab": {
          "base_uri": "https://localhost:8080/"
        },
        "id": "mb_DW8o28V-I",
        "outputId": "0ae22642-6b11-4cc6-ad81-2296e2e26bc8"
      },
      "execution_count": null,
      "outputs": [
        {
          "output_type": "stream",
          "name": "stdout",
          "text": [
            "        * \r\n",
            "      * * \r\n",
            "    * * * \r\n",
            "  * * * * \r\n",
            "* * * * * \r\n"
          ]
        }
      ]
    },
    {
      "cell_type": "code",
      "source": [
        "\n",
        "# python3 code to print pyramid pattern using while loop\n",
        "\n",
        "n=5;i=0\n",
        "\n",
        "while(i<=n):\n",
        "\n",
        "  print(\" \" * (n - i) +\"*\" * i)\n",
        "\n",
        "  i+=1"
      ],
      "metadata": {
        "colab": {
          "base_uri": "https://localhost:8080/"
        },
        "id": "fiOIN-Qr8iRG",
        "outputId": "3a393dad-fb62-477c-e2e7-a3d3cb9f85c4"
      },
      "execution_count": null,
      "outputs": [
        {
          "output_type": "stream",
          "name": "stdout",
          "text": [
            "     \n",
            "    *\n",
            "   **\n",
            "  ***\n",
            " ****\n",
            "*****\n"
          ]
        }
      ]
    },
    {
      "cell_type": "code",
      "source": [
        "\n",
        "#python3 code to implement above approach\n",
        "\n",
        "height = 5\n",
        "\n",
        "for row in range(1, height+ 1):\n",
        "\n",
        "    print(\" \" * (height - row) +\"*\" * row)\n",
        "#this code is contributed by Shivesh kumar dwivedi"
      ],
      "metadata": {
        "colab": {
          "base_uri": "https://localhost:8080/"
        },
        "id": "IpwQCIwg8roN",
        "outputId": "4c563d0a-8e32-45a4-f773-26689b3ab7d9"
      },
      "execution_count": null,
      "outputs": [
        {
          "output_type": "stream",
          "name": "stdout",
          "text": [
            "    *\n",
            "   **\n",
            "  ***\n",
            " ****\n",
            "*****\n"
          ]
        }
      ]
    },
    {
      "cell_type": "code",
      "source": [
        "\n",
        "# Python 3.x code to demonstrate star pattern\n",
        "\n",
        "# Function to demonstrate printing pattern triangle\n",
        "\n",
        "def triangle(n):\n",
        "\n",
        "\n",
        "\n",
        "    # number of spaces\n",
        "\n",
        "    k = n - 1\n",
        "\n",
        "\n",
        "    # outer loop to handle number of rows\n",
        "\n",
        "    for i in range(0, n):\n",
        "\n",
        "\n",
        "\n",
        "        # inner loop to handle number spaces\n",
        "\n",
        "        # values changing acc. to requirement\n",
        "\n",
        "        for j in range(0, k):\n",
        "\n",
        "            print(end=\" \")\n",
        "\n",
        "\n",
        "\n",
        "        # decrementing k after each loop\n",
        "\n",
        "        k = k - 1\n",
        "\n",
        "\n",
        "\n",
        "        # inner loop to handle number of columns\n",
        "\n",
        "        # values changing acc. to outer loop\n",
        "\n",
        "        for j in range(0, i+1):\n",
        "\n",
        "\n",
        "\n",
        "            # printing stars\n",
        "\n",
        "            print(\"* \", end=\"\")\n",
        "\n",
        "\n",
        "\n",
        "        # ending line after each row\n",
        "\n",
        "        print(\"\\r\")\n",
        "\n",
        "# Driver Code\n",
        "\n",
        "n = 5\n",
        "triangle(n)"
      ],
      "metadata": {
        "colab": {
          "base_uri": "https://localhost:8080/"
        },
        "id": "z819b-_u8x74",
        "outputId": "6da08424-aaaf-42e4-fe14-640b4f482188"
      },
      "execution_count": null,
      "outputs": [
        {
          "output_type": "stream",
          "name": "stdout",
          "text": [
            "    * \r\n",
            "   * * \r\n",
            "  * * * \r\n",
            " * * * * \r\n",
            "* * * * * \r\n"
          ]
        }
      ]
    },
    {
      "cell_type": "code",
      "source": [
        "\n",
        "# Python 3.x code to demonstrate star pattern\n",
        "\n",
        "# Function to demonstrate printing pattern of numbers\n",
        "\n",
        "def numpat(n):\n",
        "\n",
        "\n",
        "\n",
        "    # initialising starting number\n",
        "\n",
        "    num = 1\n",
        "\n",
        "\n",
        "    # outer loop to handle number of rows\n",
        "\n",
        "    for i in range(0, n):\n",
        "\n",
        "\n",
        "\n",
        "        # re assigning num\n",
        "\n",
        "        num = 1\n",
        "\n",
        "\n",
        "\n",
        "        # inner loop to handle number of columns\n",
        "\n",
        "            # values changing acc. to outer loop\n",
        "\n",
        "        for j in range(0, i+1):\n",
        "\n",
        "\n",
        "\n",
        "                # printing number\n",
        "\n",
        "            print(num, end=\" \")\n",
        "\n",
        "\n",
        "\n",
        "            # incrementing number at each column\n",
        "\n",
        "            num = num + 1\n",
        "\n",
        "\n",
        "\n",
        "        # ending line after each row\n",
        "\n",
        "        print(\"\\r\")\n",
        "\n",
        "# Driver code\n",
        "\n",
        "n = 5\n",
        "numpat(n)"
      ],
      "metadata": {
        "colab": {
          "base_uri": "https://localhost:8080/"
        },
        "id": "lQ938jkK9IHV",
        "outputId": "206f0077-d073-4523-e442-a1906e36d2cd"
      },
      "execution_count": null,
      "outputs": [
        {
          "output_type": "stream",
          "name": "stdout",
          "text": [
            "1 \r\n",
            "1 2 \r\n",
            "1 2 3 \r\n",
            "1 2 3 4 \r\n",
            "1 2 3 4 5 \r\n"
          ]
        }
      ]
    },
    {
      "cell_type": "code",
      "source": [
        "\n",
        "# Python 3.x code to demonstrate star pattern\n",
        "\n",
        "# Function to demonstrate printing pattern of numbers\n",
        "\n",
        "def contnum(n):\n",
        "\n",
        "\n",
        "\n",
        "    # initializing starting number\n",
        "\n",
        "    num = 1\n",
        "\n",
        "\n",
        "    # outer loop to handle number of rows\n",
        "\n",
        "    for i in range(0, n):\n",
        "\n",
        "\n",
        "\n",
        "        # not re assigning num\n",
        "\n",
        "        # num = 1\n",
        "\n",
        "\n",
        "\n",
        "        # inner loop to handle number of columns\n",
        "\n",
        "        # values changing acc. to outer loop\n",
        "\n",
        "        for j in range(0, i+1):\n",
        "\n",
        "\n",
        "\n",
        "            # printing number\n",
        "\n",
        "            print(num, end=\" \")\n",
        "\n",
        "\n",
        "\n",
        "            # incrementing number at each column\n",
        "\n",
        "            num = num + 1\n",
        "\n",
        "\n",
        "\n",
        "        # ending line after each row\n",
        "\n",
        "        print(\"\\r\")\n",
        "\n",
        "\n",
        "n = 5\n",
        "\n",
        "# sending 5 as argument\n",
        "# calling Function\n",
        "contnum(n)"
      ],
      "metadata": {
        "colab": {
          "base_uri": "https://localhost:8080/"
        },
        "id": "0sQf-btK9Si6",
        "outputId": "c0f7be06-14cb-4750-d411-8d4580023d16"
      },
      "execution_count": null,
      "outputs": [
        {
          "output_type": "stream",
          "name": "stdout",
          "text": [
            "1 \r\n",
            "2 3 \r\n",
            "4 5 6 \r\n",
            "7 8 9 10 \r\n",
            "11 12 13 14 15 \r\n"
          ]
        }
      ]
    },
    {
      "cell_type": "code",
      "source": [
        "\n",
        "# Python 3.x code to demonstrate star pattern\n",
        "\n",
        "# Function to demonstrate printing pattern of alphabets\n",
        "\n",
        "def alphapat(n):\n",
        "\n",
        "\n",
        "\n",
        "    # initializing value corresponding to 'A'\n",
        "\n",
        "    # ASCII value\n",
        "\n",
        "    num = 65\n",
        "\n",
        "\n",
        "    # outer loop to handle number of rows\n",
        "\n",
        "    # 5 in this case\n",
        "\n",
        "    for i in range(0, n):\n",
        "\n",
        "\n",
        "\n",
        "        # inner loop to handle number of columns\n",
        "\n",
        "        # values changing acc. to outer loop\n",
        "\n",
        "        for j in range(0, i+1):\n",
        "\n",
        "\n",
        "\n",
        "            # explicitly converting to char\n",
        "\n",
        "            ch = chr(num)\n",
        "\n",
        "\n",
        "\n",
        "            # printing char value\n",
        "\n",
        "            print(ch, end=\" \")\n",
        "\n",
        "\n",
        "\n",
        "        # incrementing number\n",
        "\n",
        "        num = num + 1\n",
        "\n",
        "\n",
        "\n",
        "        # ending line after each row\n",
        "\n",
        "        print(\"\\r\")\n",
        "\n",
        "# Driver Code\n",
        "\n",
        "n = 5\n",
        "alphapat(n)"
      ],
      "metadata": {
        "id": "7iAzX3L_A0tN",
        "outputId": "9874b653-3045-49f8-803e-c97b2cdd3d54",
        "colab": {
          "base_uri": "https://localhost:8080/"
        }
      },
      "execution_count": null,
      "outputs": [
        {
          "output_type": "stream",
          "name": "stdout",
          "text": [
            "A \r\n",
            "B B \r\n",
            "C C C \r\n",
            "D D D D \r\n",
            "E E E E E \r\n"
          ]
        }
      ]
    }
  ]
}